{
 "cells": [
  {
   "cell_type": "markdown",
   "metadata": {},
   "source": [
    "# 星际争霸II数学模型 - 分析演示\n",
    "\n",
    "这个notebook展示如何使用本项目进行单位分析。"
   ]
  },
  {
   "cell_type": "code",
   "execution_count": null,
   "metadata": {},
   "outputs": [],
   "source": [
    "# 导入必要的库\n",
    "import sys\n",
    "from pathlib import Path\n",
    "sys.path.append(str(Path.cwd().parent))\n",
    "\n",
    "import pandas as pd\n",
    "import matplotlib.pyplot as plt\n",
    "import seaborn as sns\n",
    "\n",
    "# 设置中文字体\n",
    "plt.rcParams['font.sans-serif'] = ['Arial Unicode MS', 'SimHei']\n",
    "plt.rcParams['axes.unicode_minus'] = False\n",
    "\n",
    "# 导入项目模块\n",
    "from src.core.cev_calculator import CEVCalculator, UnitParameters\n",
    "from src.data.csv_data_loader import CSVDataLoader"
   ]
  },
  {
   "cell_type": "markdown",
   "metadata": {},
   "source": [
    "## 1. 加载数据"
   ]
  },
  {
   "cell_type": "code",
   "execution_count": null,
   "metadata": {},
   "outputs": [],
   "source": [
    "# 加载单位数据\n",
    "loader = CSVDataLoader()\n",
    "units_data = loader.load_units_data()\n",
    "\n",
    "print(f\"成功加载 {len(units_data)} 个单位\")\n",
    "\n",
    "# 转换为DataFrame查看\n",
    "df = pd.DataFrame(units_data)\n",
    "df.head()"
   ]
  },
  {
   "cell_type": "markdown",
   "metadata": {},
   "source": [
    "## 2. 单位CEV计算"
   ]
  },
  {
   "cell_type": "code",
   "execution_count": null,
   "metadata": {},
   "outputs": [],
   "source": [
    "# 初始化计算器\n",
    "calculator = CEVCalculator()\n",
    "\n",
    "# 选择一个单位进行详细分析\n",
    "unit_name = \"陆战队员\"\n",
    "commander = \"诺娃·泰拉\"\n",
    "\n",
    "# 找到单位数据\n",
    "unit_data = next((u for u in units_data \n",
    "                 if u['name'] == unit_name and u['commander'] == commander), None)\n",
    "\n",
    "if unit_data:\n",
    "    # 创建单位参数\n",
    "    unit = UnitParameters(\n",
    "        name=unit_data['name'],\n",
    "        commander=unit_data['commander'],\n",
    "        mineral_cost=unit_data['mineral_cost'],\n",
    "        gas_cost=unit_data['gas_cost'],\n",
    "        supply_cost=unit_data['supply_cost'],\n",
    "        base_dps=unit_data['base_dps'],\n",
    "        hp=unit_data['hp'],\n",
    "        armor=unit_data['armor'],\n",
    "        shields=unit_data['shields'],\n",
    "        range=unit_data['range'],\n",
    "        speed=unit_data['speed'],\n",
    "        abilities=unit_data['abilities']\n",
    "    )\n",
    "    \n",
    "    # 计算CEV\n",
    "    result = calculator.calculate_cev(unit, time_seconds=600)\n",
    "    \n",
    "    print(f\"{unit_name} ({commander}) 中期游戏评估:\")\n",
    "    print(f\"CEV: {result['cev']:.2f}\")\n",
    "    print(f\"有效成本: {result['effective_cost']:.2f}\")\n",
    "    print(f\"有效DPS: {result['effective_dps']:.2f}\")\n",
    "    print(f\"有效HP: {result['effective_hp']:.2f}\")\n",
    "    print(f\"λ(t): {result['lambda']:.3f}\")"
   ]
  },
  {
   "cell_type": "markdown",
   "metadata": {},
   "source": [
    "## 3. 批量评估和排名"
   ]
  },
  {
   "cell_type": "code",
   "execution_count": null,
   "metadata": {},
   "outputs": [],
   "source": [
    "# 评估所有单位\n",
    "results = []\n",
    "\n",
    "for unit_data in units_data:\n",
    "    # 跳过免费单位\n",
    "    if unit_data['equivalent_cost'] == 0:\n",
    "        continue\n",
    "    \n",
    "    # 创建单位参数\n",
    "    unit = UnitParameters(\n",
    "        name=unit_data['name'],\n",
    "        commander=unit_data['commander'],\n",
    "        mineral_cost=unit_data['mineral_cost'],\n",
    "        gas_cost=unit_data['gas_cost'],\n",
    "        supply_cost=unit_data['supply_cost'],\n",
    "        base_dps=unit_data['base_dps'],\n",
    "        hp=unit_data['hp'],\n",
    "        armor=unit_data['armor'],\n",
    "        shields=unit_data['shields'],\n",
    "        range=unit_data['range'],\n",
    "        speed=unit_data['speed'],\n",
    "        abilities=unit_data['abilities']\n",
    "    )\n",
    "    \n",
    "    # 计算中期CEV\n",
    "    cev_result = calculator.calculate_cev(unit, time_seconds=600)\n",
    "    \n",
    "    results.append({\n",
    "        'commander': unit_data['commander'],\n",
    "        'unit_name': unit_data['name'],\n",
    "        'cev': cev_result['cev'],\n",
    "        'effective_cost': cev_result['effective_cost'],\n",
    "        'cost_efficiency': cev_result['cev'] / cev_result['effective_cost'] if cev_result['effective_cost'] > 0 else 0\n",
    "    })\n",
    "\n",
    "# 转换为DataFrame\n",
    "df_results = pd.DataFrame(results)\n",
    "\n",
    "# 显示Top 10\n",
    "print(\"Top 10 单位 (按CEV排序):\")\n",
    "df_results.nlargest(10, 'cev')[['unit_name', 'commander', 'cev', 'cost_efficiency']]"
   ]
  },
  {
   "cell_type": "markdown",
   "metadata": {},
   "source": [
    "## 4. 数据可视化"
   ]
  },
  {
   "cell_type": "code",
   "execution_count": null,
   "metadata": {},
   "outputs": [],
   "source": [
    "# 1. CEV分布直方图\n",
    "plt.figure(figsize=(10, 6))\n",
    "plt.hist(df_results['cev'], bins=30, edgecolor='black', alpha=0.7)\n",
    "plt.xlabel('CEV值')\n",
    "plt.ylabel('单位数量')\n",
    "plt.title('单位CEV分布')\n",
    "plt.grid(True, alpha=0.3)\n",
    "plt.show()\n",
    "\n",
    "# 2. 指挥官平均CEV\n",
    "commander_avg = df_results.groupby('commander')['cev'].mean().sort_values(ascending=False)\n",
    "\n",
    "plt.figure(figsize=(12, 8))\n",
    "commander_avg.head(10).plot(kind='bar')\n",
    "plt.xlabel('指挥官')\n",
    "plt.ylabel('平均CEV')\n",
    "plt.title('各指挥官平均单位CEV (Top 10)')\n",
    "plt.xticks(rotation=45, ha='right')\n",
    "plt.tight_layout()\n",
    "plt.show()"
   ]
  },
  {
   "cell_type": "markdown",
   "metadata": {},
   "source": [
    "## 5. 成本效率分析"
   ]
  },
  {
   "cell_type": "code",
   "execution_count": null,
   "metadata": {},
   "outputs": [],
   "source": [
    "# 成本-效能散点图\n",
    "plt.figure(figsize=(12, 8))\n",
    "\n",
    "# 按指挥官着色\n",
    "commanders = df_results['commander'].unique()[:6]  # 选择6个指挥官\n",
    "colors = plt.cm.tab10(range(len(commanders)))\n",
    "\n",
    "for i, cmd in enumerate(commanders):\n",
    "    cmd_data = df_results[df_results['commander'] == cmd]\n",
    "    plt.scatter(cmd_data['effective_cost'], cmd_data['cev'], \n",
    "               c=[colors[i]], label=cmd, alpha=0.6, s=80)\n",
    "\n",
    "plt.xlabel('有效成本')\n",
    "plt.ylabel('战斗效能值 (CEV)')\n",
    "plt.title('单位成本-效能分析')\n",
    "plt.legend(bbox_to_anchor=(1.05, 1), loc='upper left')\n",
    "plt.grid(True, alpha=0.3)\n",
    "plt.tight_layout()\n",
    "plt.show()\n",
    "\n",
    "# 性价比Top 10\n",
    "print(\"\\n性价比最高的10个单位:\")\n",
    "df_results.nlargest(10, 'cost_efficiency')[['unit_name', 'commander', 'cost_efficiency', 'cev']]"
   ]
  },
  {
   "cell_type": "markdown",
   "metadata": {},
   "source": [
    "## 6. 时间演化分析"
   ]
  },
  {
   "cell_type": "code",
   "execution_count": null,
   "metadata": {},
   "outputs": [],
   "source": [
    "# 分析λ(t)函数\n",
    "import numpy as np\n",
    "\n",
    "time_points = np.linspace(0, 1800, 100)\n",
    "lambda_values = [calculator.calculate_lambda(t) for t in time_points]\n",
    "\n",
    "plt.figure(figsize=(10, 6))\n",
    "plt.plot(time_points/60, lambda_values, 'b-', linewidth=2)\n",
    "plt.xlabel('游戏时间 (分钟)')\n",
    "plt.ylabel('λ(t)')\n",
    "plt.title('人口压力因子λ(t)随时间变化')\n",
    "plt.grid(True, alpha=0.3)\n",
    "plt.axvline(x=3, color='r', linestyle='--', alpha=0.5, label='早期(3分钟)')\n",
    "plt.axvline(x=10, color='g', linestyle='--', alpha=0.5, label='中期(10分钟)')\n",
    "plt.axvline(x=20, color='purple', linestyle='--', alpha=0.5, label='后期(20分钟)')\n",
    "plt.legend()\n",
    "plt.show()"
   ]
  }
 ],
 "metadata": {
  "kernelspec": {
   "display_name": "Python 3",
   "language": "python",
   "name": "python3"
  },
  "language_info": {
   "codemirror_mode": {
    "name": "ipython",
    "version": 3
   },
   "file_extension": ".py",
   "mimetype": "text/x-python",
   "name": "python",
   "nbconvert_exporter": "python",
   "pygments_lexer": "ipython3",
   "version": "3.9.0"
  }
 },
 "nbformat": 4,
 "nbformat_minor": 4
}